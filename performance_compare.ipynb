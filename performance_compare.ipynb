{
 "cells": [
  {
   "cell_type": "markdown",
   "id": "5bbdfbc5",
   "metadata": {},
   "source": [
    "Compare performance of bigquery and sqlalchemy.engine"
   ]
  },
  {
   "cell_type": "code",
   "execution_count": 1,
   "id": "6a1d7e4c",
   "metadata": {},
   "outputs": [],
   "source": [
    "import argparse\n",
    "import logging\n",
    "from getEngine import GetEngine\n",
    "from getData import GetBigData, GetClient\n",
    "import time\n",
    "import pandas as pd\n",
    "import warnings"
   ]
  },
  {
   "cell_type": "code",
   "execution_count": 2,
   "id": "1270dfa3",
   "metadata": {},
   "outputs": [],
   "source": [
    "warnings.filterwarnings(\"ignore\")"
   ]
  },
  {
   "cell_type": "code",
   "execution_count": 3,
   "id": "d79e0a50",
   "metadata": {},
   "outputs": [],
   "source": [
    "client = GetClient()\n",
    "engine = GetEngine()"
   ]
  },
  {
   "cell_type": "code",
   "execution_count": 4,
   "id": "d0ea0fbb",
   "metadata": {},
   "outputs": [
    {
     "data": {
      "text/plain": [
       "Engine(bigquery://)"
      ]
     },
     "execution_count": 4,
     "metadata": {},
     "output_type": "execute_result"
    }
   ],
   "source": [
    "engine.engine"
   ]
  },
  {
   "cell_type": "code",
   "execution_count": null,
   "id": "9baac1b3",
   "metadata": {},
   "outputs": [],
   "source": [
    "query = [\"SELECT * \" +\n",
    "\"FROM `bigquery-public-data.new_york_taxi_trips.tlc_green_trips_2014` \"]"
   ]
  },
  {
   "cell_type": "code",
   "execution_count": null,
   "id": "090bbb23",
   "metadata": {},
   "outputs": [],
   "source": [
    "###--- 90.46801948547363 seconds ---\n",
    "start_time = time.time()\n",
    "\n",
    "df = client.client.query(query[0]).result().to_dataframe()\n",
    "\n",
    "print(\"--- %s seconds ---\" % (time.time() - start_time))"
   ]
  },
  {
   "cell_type": "code",
   "execution_count": null,
   "id": "149214b7",
   "metadata": {},
   "outputs": [],
   "source": [
    "###--- 90.28202557563782 seconds ---\n",
    "start_time = time.time()\n",
    "data_list = []\n",
    "for chunk in pd.read_sql(sql=query[0], con=engine.engine, chunksize=1000):\n",
    "    data_list.append(chunk)\n",
    "\n",
    "df_master = pd.concat(data_list, ignore_index=True)\n",
    "\n",
    "print(\"--- %s seconds ---\" % (time.time() - start_time))"
   ]
  }
 ],
 "metadata": {
  "kernelspec": {
   "display_name": "Python 3",
   "language": "python",
   "name": "python3"
  },
  "language_info": {
   "codemirror_mode": {
    "name": "ipython",
    "version": 3
   },
   "file_extension": ".py",
   "mimetype": "text/x-python",
   "name": "python",
   "nbconvert_exporter": "python",
   "pygments_lexer": "ipython3",
   "version": "3.8.8"
  }
 },
 "nbformat": 4,
 "nbformat_minor": 5
}
